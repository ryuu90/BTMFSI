{
 "cells": [
  {
   "cell_type": "markdown",
   "id": "1315de0a-b8b6-4737-8daf-4857ff699d03",
   "metadata": {},
   "source": [
    "In this notebook, we will show how to use BTMFSI for imputations and predictions."
   ]
  },
  {
   "cell_type": "code",
   "execution_count": 1,
   "id": "f19df115-688d-48b7-80d6-2ce9a9806700",
   "metadata": {
    "tags": []
   },
   "outputs": [],
   "source": [
    "import pandas as pd\n",
    "import numpy as np\n",
    "from numpy.random import multivariate_normal as mvnrnd\n",
    "from scipy.stats import wishart\n",
    "from scipy.stats import invwishart\n",
    "from numpy.linalg import inv as inv\n",
    "import random\n",
    "import btmfsi as bs\n",
    "import seaborn as sns\n",
    "import matplotlib.pyplot as  plt"
   ]
  },
  {
   "cell_type": "markdown",
   "id": "63dcce99-7b4b-418d-a08a-cfbe84c3cede",
   "metadata": {},
   "source": [
    "mm_scale scales a matrix between 0 and 1."
   ]
  },
  {
   "cell_type": "code",
   "execution_count": 2,
   "id": "c0dca3e8",
   "metadata": {},
   "outputs": [],
   "source": [
    "def mm_scale(dense_mat, train_size):\n",
    "    training_data=dense_mat[:,:train_size]\n",
    "    train_min = np.min(training_data[np.nonzero(training_data)])\n",
    "    epsilon = abs(train_min)*0.01\n",
    "    val_max = training_data.max()\n",
    "    val_min = train_min - epsilon\n",
    "    result_mat = ((dense_mat - val_min)/(val_max - val_min))\n",
    "    return result_mat, val_max, val_min"
   ]
  },
  {
   "cell_type": "markdown",
   "id": "b41c1023-a995-4ca6-aafd-e3a182b771f7",
   "metadata": {},
   "source": [
    "mvmat produce a matrix with missing values"
   ]
  },
  {
   "cell_type": "code",
   "execution_count": 3,
   "id": "c92f5fe9",
   "metadata": {},
   "outputs": [],
   "source": [
    "def mv_mat(dense_mat, mv_rate):\n",
    "\tlenrow, lencol = dense_mat.shape[0], dense_mat.shape[1]\n",
    "\tbinary_mat = np.ones(lenrow*lencol)\n",
    "\tlenmv = int(lenrow*lencol*mv_rate)\n",
    "\tbinary_mat[:lenmv] = 0\n",
    "\tnp.random.shuffle(binary_mat)\n",
    "\tresult_mat = np.multiply(dense_mat, binary_mat.reshape(lenrow, lencol))\n",
    "\treturn result_mat, binary_mat.reshape(lenrow, lencol)  "
   ]
  },
  {
   "cell_type": "markdown",
   "id": "1a676c07-c616-4cf3-bc8b-7db1fe5372db",
   "metadata": {},
   "source": [
    "The function FrameSyn and PlotFrame are used to plot the prediction values of time-series gene expressions."
   ]
  },
  {
   "cell_type": "code",
   "execution_count": 4,
   "id": "c0046e64-4c8d-4d9c-acec-d631495e2401",
   "metadata": {},
   "outputs": [],
   "source": [
    "def FrameSyn(np_arr, label, time, data):\n",
    "    df_syn = pd.DataFrame({'Gene expression': np_arr, 'Method': label, 'Time point': time, 'Data': data})\n",
    "    return df_syn\n",
    "\n",
    "def PlotFrame(dense_mat, mat_hat, row_select):\n",
    "    time_length = mat_hat.shape[1]\n",
    "    time = np.arange(time_length)\n",
    "    sample_size = dense_mat.shape[0]-1\n",
    "    df_list = []\n",
    "    for i in range(row_select):\n",
    "        name = 'sample '+ str(i+1)\n",
    "        j = random.randint(0, sample_size)\n",
    "        df_ob = FrameSyn(dense_mat[j,-time_length:], 'Observation', time, name)\n",
    "        df_btmfsi = FrameSyn(mat_hat[j,:], 'BTMFSI', time, name)\n",
    "        df_temp = pd.concat([df_ob, df_btmfsi], axis=0)\n",
    "        df_list.append(df_temp)\n",
    "    df_all = pd.concat(df_list, axis=0)\n",
    "    return df_all"
   ]
  },
  {
   "cell_type": "markdown",
   "id": "2ec5eb60-ed22-462d-8a8e-8b05516b1906",
   "metadata": {},
   "source": [
    "The following code is used to load the full matrix of time-series gene expression and side information (additional information) in numpy format."
   ]
  },
  {
   "cell_type": "code",
   "execution_count": 5,
   "id": "ea2de0cf-99d6-4920-ae6d-bf13c3175598",
   "metadata": {},
   "outputs": [],
   "source": [
    "#To load the synthetic data, please use the following code instead:\n",
    "#----\n",
    "dense_mat_ = np.load('./data/synthetic_data.npy')\n",
    "additional_info = np.load('./data/synthetic_data_addinfo.npy')\n",
    "#----\n",
    "\n",
    "#To load the yeast cell cycle data, please use the following code:\n",
    "#----\n",
    "#dense_mat = np.load('./data/ycc800_data.npy')\n",
    "#additional_info = np.load('./data/ycc800_data_addinfo.npy')\n",
    "#----\n",
    "\n",
    "#dense_mat = np.load('./data/ymc800_data_origin.npy')\n",
    "#dense_mat = np.log10(dense_mat)\n",
    "#additional_info = np.load('./data/ymc800_data_addinfo.npy')"
   ]
  },
  {
   "cell_type": "markdown",
   "id": "e07d27c1-2dad-4527-8076-16d3f8dd8c7f",
   "metadata": {},
   "source": [
    "We use mm_scale function to normalize the multiple time-series gene expression data. \n",
    "The miss_rate represents the ratio of missing value in our paper. \n",
    "The term sparse_mat represents the time-series gene expression data with missing values, which can be obtained using function mvmat."
   ]
  },
  {
   "cell_type": "code",
   "execution_count": 6,
   "id": "3c658dc8-dc21-442e-8ec3-ec31f215b90d",
   "metadata": {},
   "outputs": [],
   "source": [
    "train_size= 20\n",
    "miss_rate = 0.2\n",
    "sparse_origin, binary_mat = mv_mat(dense_mat_, miss_rate)\n",
    "sparse_mat_, val_max, val_min = mm_scale(sparse_origin, train_size)\n",
    "sparse_mat = np.multiply(sparse_mat_, binary_mat)\n",
    "dense_mat = (dense_mat_-val_min)/(val_max-val_min)\n",
    "val = abs(val_max - val_min)"
   ]
  },
  {
   "cell_type": "markdown",
   "id": "6ce40a35-8c11-4067-b75c-21fe950a4f1f",
   "metadata": {},
   "source": [
    "Please check prefunc.py for the meaning of the following parameters."
   ]
  },
  {
   "cell_type": "code",
   "execution_count": 7,
   "id": "41032fff-1129-4250-ac54-db7413895295",
   "metadata": {},
   "outputs": [],
   "source": [
    "alpha = 1\n",
    "pred_time_steps = 20 * 1\n",
    "multi_steps = 1\n",
    "rank = 2\n",
    "time_lags = np.array([1, 2, 3, 4, 5, 6])\n",
    "maxiter = np.array([200, 100, 20, 10])"
   ]
  },
  {
   "cell_type": "code",
   "execution_count": null,
   "id": "6852ffa1-bb93-46d3-9656-5374e034b4ad",
   "metadata": {},
   "outputs": [],
   "source": [
    "mat_prediction, imputation_rmse, prediction_rmse  = bs.multi_prediction_side(dense_mat, sparse_mat, additional_info, alpha, pred_time_steps, multi_steps, rank, time_lags, maxiter)"
   ]
  },
  {
   "cell_type": "code",
   "execution_count": null,
   "id": "4b77b522-a8ad-4d9f-8dfb-813d7e742a40",
   "metadata": {},
   "outputs": [],
   "source": [
    "#normalized imputation rmse\n",
    "imputation_rmse"
   ]
  },
  {
   "cell_type": "code",
   "execution_count": null,
   "id": "0e2c25fa-9ea7-47bb-a2dd-0013e7690d9e",
   "metadata": {},
   "outputs": [],
   "source": [
    "#original imputation rmse\n",
    "imputation_rmse*val"
   ]
  },
  {
   "cell_type": "code",
   "execution_count": null,
   "id": "ee955a72-9778-4702-9aea-27fc0c604883",
   "metadata": {},
   "outputs": [],
   "source": [
    "#normalized prediction rmse\n",
    "prediction_rmse"
   ]
  },
  {
   "cell_type": "code",
   "execution_count": null,
   "id": "e4c7afc3-3493-4f06-88b0-fe933de74dbd",
   "metadata": {},
   "outputs": [],
   "source": [
    "#original prediction rmse\n",
    "prediction_rmse*val"
   ]
  },
  {
   "cell_type": "markdown",
   "id": "f2ee7366-3e20-47fa-a999-fd7310f1724f",
   "metadata": {},
   "source": [
    "The term 'num=5' means that 5 randomly selected predictions will be listed below."
   ]
  },
  {
   "cell_type": "code",
   "execution_count": null,
   "id": "5f8c2588-26e1-4288-b251-02c74a85264b",
   "metadata": {},
   "outputs": [],
   "source": [
    "num = 5\n",
    "df_plot = PlotFrame(dense_mat, mat_prediction, num)\n",
    "g = sns.FacetGrid(df_plot, col=\"Data\", hue=\"Method\", \n",
    "    palette='bright', margin_titles=True)\n",
    "g.map(sns.lineplot, \"Time point\", \"Gene expression\").add_legend()"
   ]
  }
 ],
 "metadata": {
  "kernelspec": {
   "display_name": "Python [conda env:btmfsi] *",
   "language": "python",
   "name": "conda-env-btmfsi-py"
  },
  "language_info": {
   "codemirror_mode": {
    "name": "ipython",
    "version": 3
   },
   "file_extension": ".py",
   "mimetype": "text/x-python",
   "name": "python",
   "nbconvert_exporter": "python",
   "pygments_lexer": "ipython3",
   "version": "3.9.15"
  },
  "vscode": {
   "interpreter": {
    "hash": "13160421d138c95873d2134031d522606865ba68123fc6c3865fc3f79abf5892"
   }
  }
 },
 "nbformat": 4,
 "nbformat_minor": 5
}
